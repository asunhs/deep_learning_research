{
 "cells": [
  {
   "cell_type": "markdown",
   "metadata": {},
   "source": [
    "# Install tensorflow for Mac by PIP.\n",
    "\n",
    "```\n",
    "# Mac OS X, CPU only, Python 3.4 or 3.5:\n",
    "$ export TF_BINARY_URL=https://storage.googleapis.com/tensorflow/mac/tensorflow-0.9.0rc0-py3-none-any.whl\n",
    "\n",
    "# Python 3\n",
    "$ sudo pip3 install --upgrade $TF_BINARY_URL\n",
    "```\n"
   ]
  },
  {
   "cell_type": "markdown",
   "metadata": {},
   "source": [
    "# Linear regression by tensor flow."
   ]
  },
  {
   "cell_type": "code",
   "execution_count": 15,
   "metadata": {
    "collapsed": false
   },
   "outputs": [],
   "source": [
    "\n",
    "\n",
    "import tensorflow as tf\n",
    "\n",
    "x1_data = [1, 0, 3, 0, 5]\n",
    "x2_data = [0, 2, 0, 4, 0]\n",
    "y_data = [1, 2, 3, 4, 5]\n",
    "\n",
    "\n",
    "W1 = tf.Variable(tf.random_uniform([1], -1.0, 1.0) )\n",
    "W2 = tf.Variable(tf.random_uniform([1], -1.0, 1.0) )\n",
    "b = tf.Variable(tf.random_uniform([1], -1.0, 1.0) )\n",
    "\n",
    "\n",
    "hypothesis = W1*x1_data + W2*x2_data + b \n",
    "\n",
    "\n",
    "# Cost function\n",
    "cost = tf.reduce_mean(tf.square(y_data - hypothesis))\n",
    "\n",
    "# Optimizer confifuration\n",
    "train = tf.train.GradientDescentOptimizer(learning_rate =0.01).minimize(cost)\n",
    "\n",
    "init = tf.initialize_all_variables()\n",
    "\n",
    "sess = tf.Session()\n",
    "sess.run(init)\n",
    "\n",
    "step_list = []\n",
    "cost_list = []\n",
    "\n",
    "for step in range(100):\n",
    "    sess.run(train)\n",
    "    if step % 10 == 0:\n",
    "        step_list.append(step)\n",
    "        cost_list.append(sess.run(cost))\n",
    "        #print (step, sess.run(cost), sess.run(W1), sess.run(W2), sess.run(b))"
   ]
  },
  {
   "cell_type": "markdown",
   "metadata": {
    "collapsed": true
   },
   "source": [
    "# Graph for cost function"
   ]
  },
  {
   "cell_type": "code",
   "execution_count": 16,
   "metadata": {
    "collapsed": false,
    "scrolled": true
   },
   "outputs": [
    {
     "data": {
      "image/png": "[encoded data removed]",
      "text/plain": [
       "<matplotlib.figure.Figure at 0x10e8fcb70>"
      ]
     },
     "metadata": {},
     "output_type": "display_data"
    }
   ],
   "source": [
    "%matplotlib inline\n",
    "\n",
    "import matplotlib\n",
    "import numpy as np\n",
    "import matplotlib.pyplot as plt\n",
    "\n",
    "plt.plot(step_list, cost_list, label='Cost function in every step.')\n",
    "plt.legend()\n",
    "plt.show()\n",
    "\n"
   ]
  },
  {
   "cell_type": "code",
   "execution_count": null,
   "metadata": {
    "collapsed": true
   },
   "outputs": [],
   "source": []
  }
 ],
 "metadata": {
  "kernelspec": {
   "display_name": "Python 3",
   "language": "python",
   "name": "python3"
  },
  "language_info": {
   "codemirror_mode": {
    "name": "ipython",
    "version": 3
   },
   "file_extension": ".py",
   "mimetype": "text/x-python",
   "name": "python",
   "nbconvert_exporter": "python",
   "pygments_lexer": "ipython3",
   "version": "3.5.1"
  }
 },
 "nbformat": 4,
 "nbformat_minor": 0
}
