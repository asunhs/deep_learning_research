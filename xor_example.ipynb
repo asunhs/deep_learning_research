{
 "cells": [
  {
   "cell_type": "markdown",
   "metadata": {},
   "source": [
    "# XOR operation by NeuralNetwork"
   ]
  },
  {
   "cell_type": "code",
   "execution_count": 2,
   "metadata": {
    "collapsed": false
   },
   "outputs": [
    {
     "name": "stdout",
     "output_type": "stream",
     "text": [
      "0 0.710807 [[-0.23799537 -0.64334887]\n",
      " [ 0.99189657  0.35737014]] [[ 0.00626673]\n",
      " [ 0.81748635]]\n",
      "1000 0.69128 [[-0.3450323  -0.79193425]\n",
      " [ 1.05605483  0.44133425]] [[-0.28741881]\n",
      " [ 0.76176196]]\n",
      "2000 0.677758 [[-0.62844026 -1.28290963]\n",
      " [ 1.27633893  0.90647316]] [[-0.62846887]\n",
      " [ 1.15018058]]\n",
      "3000 0.453673 [[-2.06531715 -3.04426694]\n",
      " [ 2.50935221  2.75427008]] [[-2.33258724]\n",
      " [ 3.2621007 ]]\n",
      "4000 0.135482 [[-4.00421095 -4.55536938]\n",
      " [ 4.30133009  4.35006046]] [[-5.21226311]\n",
      " [ 5.92975426]]\n",
      "5000 0.0639115 [[-4.778584   -5.1712079 ]\n",
      " [ 5.05409527  4.97500181]] [[-6.70084286]\n",
      " [ 7.32425356]]\n",
      "6000 0.0401752 [[-5.18592644 -5.50901747]\n",
      " [ 5.45449162  5.31195784]] [[-7.58791351]\n",
      " [ 8.1762228 ]]\n",
      "7000 0.0289248 [[-5.45069551 -5.73371077]\n",
      " [ 5.71594238  5.5343771 ]] [[-8.20870018]\n",
      " [ 8.77964783]]\n",
      "8000 0.022471 [[-5.64311171 -5.89939642]\n",
      " [ 5.90645838  5.69770765]] [[-8.68360901]\n",
      " [ 9.24435234]]\n",
      "[array([[ 0.02181667],\n",
      "       [ 0.98046219],\n",
      "       [ 0.97081202],\n",
      "       [ 0.01830276]], dtype=float32), array([[ 0.],\n",
      "       [ 1.],\n",
      "       [ 1.],\n",
      "       [ 0.]], dtype=float32), array([[ True],\n",
      "       [ True],\n",
      "       [ True],\n",
      "       [ True]], dtype=bool), 1.0]\n",
      "Accuracy: 1.0\n"
     ]
    }
   ],
   "source": [
    "# Implement code for Sung Kim's TF lecture. See https://www.youtube.com/watch?v=9i7FBbcZPMA&feature=youtu.be\n",
    "\n",
    "import numpy as np\n",
    "import tensorflow as tf\n",
    "\n",
    "xy = np.loadtxt('xor_dataset.txt', unpack=True)\n",
    "\n",
    "# Need to change data structure. THESE LINES ARE DIFFERNT FROM Video BUT IT MAKES THIS CODE WORKS!\n",
    "x_data = np.transpose( xy[0:-1] )\n",
    "y_data = np.reshape( xy[-1], (4,1) )\n",
    "\n",
    "X = tf.placeholder(tf.float32)\n",
    "Y = tf.placeholder(tf.float32)\n",
    "\n",
    "W1 = tf.Variable(tf.random_uniform( [2,2], -1.0, 1.0))\n",
    "W2 = tf.Variable(tf.random_uniform( [2,1], -1.0, 1.0))\n",
    "\n",
    "b1 = tf.Variable(tf.zeros([2]), name=\"Bias1\")\n",
    "b2 = tf.Variable(tf.zeros([1]), name=\"Bias1\")\n",
    "\n",
    "# Hypotheses \n",
    "L2 =  tf.sigmoid(tf.matmul(X,W1)+b1)\n",
    "hypothesis = tf.sigmoid( tf.matmul(L2,W2) + b2)\n",
    "\n",
    "# Cost function \n",
    "cost = -tf.reduce_mean( Y*tf.log(hypothesis)+(1-Y)* tf.log(1.-hypothesis) )\n",
    "\n",
    "# Minimize cost.\n",
    "a = tf.Variable(0.1)\n",
    "optimizer = tf.train.GradientDescentOptimizer(a)\n",
    "train = optimizer.minimize(cost)\n",
    "\n",
    "# Initializa all variables.\n",
    "init = tf.initialize_all_variables()\n",
    "\n",
    "\n",
    "# Launch the graph\n",
    "with tf.Session() as sess:\n",
    "    sess.run(init)\n",
    "    \n",
    "    for step in range(8001):\n",
    "        sess.run(train, feed_dict={X:x_data, Y:y_data})\n",
    "        \n",
    "        if step % 1000 == 0:\n",
    "            print(\n",
    "                step, \n",
    "                sess.run(cost, feed_dict={X:x_data, Y:y_data}), \n",
    "                sess.run(W1),\n",
    "                sess.run(W2)\n",
    "            )\n",
    "    \n",
    "    # Test model\n",
    "    correct_prediction = tf.equal( tf.floor(hypothesis+0.5), Y)\n",
    "    accuracy = tf.reduce_mean(tf.cast( correct_prediction, \"float\" ) )\n",
    "    \n",
    "    # Check accuracy\n",
    "    print( sess.run( [hypothesis, tf.floor(hypothesis+0.5), correct_prediction, accuracy], \n",
    "                   feed_dict={X:x_data, Y:y_data}) )\n",
    "    print( \"Accuracy:\", accuracy.eval({X:x_data, Y:y_data}) )\n",
    "\n",
    "\n"
   ]
  },
  {
   "cell_type": "code",
   "execution_count": null,
   "metadata": {
    "collapsed": true
   },
   "outputs": [],
   "source": []
  }
 ],
 "metadata": {
  "kernelspec": {
   "display_name": "Python 3",
   "language": "python",
   "name": "python3"
  },
  "language_info": {
   "codemirror_mode": {
    "name": "ipython",
    "version": 3
   },
   "file_extension": ".py",
   "mimetype": "text/x-python",
   "name": "python",
   "nbconvert_exporter": "python",
   "pygments_lexer": "ipython3",
   "version": "3.5.1"
  }
 },
 "nbformat": 4,
 "nbformat_minor": 0
}
