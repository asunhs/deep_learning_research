{
 "cells": [
  {
   "cell_type": "markdown",
   "metadata": {},
   "source": [
    "Example code for Softmax\n",
    "=========================="
   ]
  },
  {
   "cell_type": "code",
   "execution_count": 37,
   "metadata": {
    "collapsed": false
   },
   "outputs": [
    {
     "name": "stdout",
     "output_type": "stream",
     "text": [
      "0 1.09774 [[ -8.33333252e-05   4.16666626e-05   4.16666480e-05]\n",
      " [  1.66666694e-04   2.91666773e-04  -4.58333408e-04]\n",
      " [  1.66666636e-04   4.16666706e-04  -5.83333429e-04]]\n",
      "100 1.06645 [[-0.00974582  0.00085278  0.00889304]\n",
      " [ 0.00999095  0.01240054 -0.02239149]\n",
      " [ 0.01006747  0.02499313 -0.0350606 ]]\n",
      "200 1.05962 [[-0.02051384 -0.00103983  0.02155367]\n",
      " [ 0.01406438  0.01097753 -0.02504191]\n",
      " [ 0.01431208  0.03574873 -0.05006079]]\n",
      "300 1.0546 [[-0.03162513 -0.00356464  0.03518977]\n",
      " [ 0.01614517  0.00659079 -0.02273595]\n",
      " [ 0.01664983  0.04315857 -0.05980836]]\n",
      "400 1.04985 [[-0.04282598 -0.00625899  0.04908497]\n",
      " [ 0.01747187  0.00156368 -0.01903554]\n",
      " [ 0.01831204  0.04954104 -0.06785304]]\n",
      "500 1.04523 [[-0.05402156 -0.00900351  0.06302506]\n",
      " [ 0.01851289 -0.00351735 -0.01499552]\n",
      " [ 0.01976016  0.05549131 -0.07525142]]\n",
      "600 1.0407 [[-0.06517859 -0.01176361  0.07694222]\n",
      " [ 0.01943521 -0.00848972 -0.01094548]\n",
      " [ 0.0211558   0.06118308 -0.0823388 ]]\n",
      "700 1.03628 [[-0.07628597 -0.01452834  0.09081434]\n",
      " [ 0.02029658 -0.01330799 -0.00698858]\n",
      " [ 0.02255237  0.0666732  -0.08922548]]\n",
      "800 1.03194 [[-0.08734013 -0.01729389  0.10463405]\n",
      " [ 0.0211172  -0.01796171 -0.00315548]\n",
      " [ 0.02396628  0.07198346 -0.09594974]]\n",
      "900 1.0277 [[-0.09834011 -0.02005867  0.11839879]\n",
      " [ 0.02190469 -0.02245126  0.00054658]\n",
      " [ 0.02540163  0.07712454 -0.10252618]]\n",
      "1000 1.02354 [[-0.10928574 -0.02282181  0.13210757]\n",
      " [ 0.02266254 -0.02678034  0.00411783]\n",
      " [ 0.02685853  0.08210357 -0.10896212]]\n",
      "1100 1.01947 [[-0.12017717 -0.02558274  0.14575994]\n",
      " [ 0.02339279 -0.03095369  0.00756093]\n",
      " [ 0.02833582  0.08692633 -0.11526213]]\n",
      "1200 1.01547 [[-0.13101467 -0.02834092  0.15935561]\n",
      " [ 0.02409703 -0.03497621  0.01087923]\n",
      " [ 0.029832    0.091598   -0.12143001]]\n",
      "1300 1.01155 [[-0.14179853 -0.03109588  0.1728944 ]\n",
      " [ 0.02477667 -0.03885284  0.01407623]\n",
      " [ 0.03134547  0.09612366 -0.12746911]]\n",
      "1400 1.0077 [[-0.15252906 -0.03384715  0.18637618]\n",
      " [ 0.02543302 -0.04258838  0.01715542]\n",
      " [ 0.03287466  0.10050805 -0.13338271]]\n",
      "1500 1.00392 [[-0.16320656 -0.03659431  0.19980085]\n",
      " [ 0.02606733 -0.04618748  0.02012023]\n",
      " [ 0.03441809  0.10475579 -0.13917387]]\n",
      "1600 1.00021 [[-0.17383142 -0.03933692  0.21316831]\n",
      " [ 0.02668081 -0.04965464  0.0229739 ]\n",
      " [ 0.03597427  0.10887136 -0.14484565]]\n",
      "1700 0.996564 [[-0.18440396 -0.04207458  0.22647853]\n",
      " [ 0.02727464 -0.05299426  0.0257197 ]\n",
      " [ 0.03754187  0.11285908 -0.15040097]]\n",
      "1800 0.992979 [[-0.19492456 -0.04480688  0.23973146]\n",
      " [ 0.02784993 -0.05621058  0.02836074]\n",
      " [ 0.03911954  0.11672314 -0.15584265]]\n",
      "1900 0.989455 [[-0.2053936  -0.04753346  0.25292706]\n",
      " [ 0.02840775 -0.0593077   0.03090005]\n",
      " [ 0.04070605  0.12046755 -0.16117358]]\n",
      "2000 0.985988 [[-0.21581143 -0.05025396  0.26606542]\n",
      " [ 0.02894915 -0.06228962  0.03334056]\n",
      " [ 0.04230019  0.12409624 -0.16639642]]\n"
     ]
    }
   ],
   "source": [
    "import numpy as np\n",
    "import tensorflow as tf\n",
    "\n",
    "# Load data\n",
    "xy = np.loadtxt('softmax_train.txt', unpack=True, dtype='float32')\n",
    "x_data = np.transpose(xy[0:3])\n",
    "y_data = np.transpose(xy[3:])\n",
    "\n",
    "# Graph input\n",
    "X = tf.placeholder(\"float\", [None,3] )\n",
    "Y = tf.placeholder(\"float\", [None,3] )\n",
    "\n",
    "# Model weight\n",
    "W = tf.Variable(tf.zeros([3,3]))\n",
    "\n",
    "# Construct model\n",
    "hypothesis = tf.nn.softmax( tf.matmul(X,W))\n",
    "\n",
    "# Learning rate\n",
    "learning_rate = 0.001\n",
    "\n",
    "# Cross entrophy\n",
    "cost = tf.reduce_mean( -tf.reduce_sum( Y*tf.log(hypothesis), reduction_indices=1 ) )\n",
    "\n",
    "# Gradient Descent\n",
    "optimizer = tf.train.GradientDescentOptimizer(learning_rate).minimize(cost)\n",
    "\n",
    "# Initializing the variables\n",
    "init = tf.initialize_all_variables()\n",
    "\n",
    "# Launch graph\n",
    "sess = tf.Session()\n",
    "sess.run(init)\n",
    "\n",
    "cost_list = []\n",
    "step_list = []\n",
    "for step in range(2001):        \n",
    "    sess.run(optimizer, feed_dict={X:x_data, Y:y_data})\n",
    "    if step % 100 == 0:\n",
    "        cost_in_step = sess.run(cost, feed_dict={X:x_data, Y:y_data})\n",
    "        print(step, cost_in_step, sess.run(W) )\n",
    "        step_list.append(step)\n",
    "        cost_list.append(cost_in_step)\n"
   ]
  },
  {
   "cell_type": "markdown",
   "metadata": {},
   "source": [
    "Evaluation of model\n",
    "====================="
   ]
  },
  {
   "cell_type": "code",
   "execution_count": 38,
   "metadata": {
    "collapsed": false
   },
   "outputs": [
    {
     "name": "stdout",
     "output_type": "stream",
     "text": [
      "[[ 0.46272627  0.35483006  0.18244371]] [0]\n",
      "[[ 0.33820099  0.42101386  0.24078514]] [1]\n",
      "[[ 0.27002314  0.29085544  0.4391214 ]] [2]\n"
     ]
    }
   ],
   "source": [
    "a = sess.run(hypothesis, feed_dict={X:[[1, 11, 7]]} )\n",
    "print(a, sess.run(tf.arg_max(a,1)) )\n",
    "\n",
    "b = sess.run(hypothesis, feed_dict={X:[[1, 3, 4]]} )\n",
    "print(b, sess.run(tf.arg_max(b,1)) )\n",
    "\n",
    "c = sess.run(hypothesis, feed_dict={X:[[1, 1, 0]]} )\n",
    "print(c, sess.run(tf.arg_max(c,1)) )\n",
    "\n"
   ]
  },
  {
   "cell_type": "markdown",
   "metadata": {},
   "source": [
    "Chart the cost reduction in every step.\n",
    "==============\n"
   ]
  },
  {
   "cell_type": "code",
   "execution_count": 40,
   "metadata": {
    "collapsed": false
   },
   "outputs": [
    {
     "data": {
      "image/png": "[encoded data removed]",
      "text/plain": [
       "<matplotlib.figure.Figure at 0x114ed54e0>"
      ]
     },
     "metadata": {},
     "output_type": "display_data"
    }
   ],
   "source": [
    "%matplotlib inline\n",
    "\n",
    "import matplotlib\n",
    "import numpy as np\n",
    "import matplotlib.pyplot as plt\n",
    "\n",
    "plt.plot(step_list, cost_list, label='Cost function in every step.')\n",
    "plt.legend()\n",
    "plt.show()\n"
   ]
  },
  {
   "cell_type": "code",
   "execution_count": 42,
   "metadata": {
    "collapsed": false
   },
   "outputs": [
    {
     "name": "stdout",
     "output_type": "stream",
     "text": [
      "[[-0.21581143 -0.05025396  0.26606542]\n",
      " [ 0.02894915 -0.06228962  0.03334056]\n",
      " [ 0.04230019  0.12409624 -0.16639642]]\n"
     ]
    }
   ],
   "source": [
    "# Tip: print out the tensor.\n",
    "print( sess.run(W) )"
   ]
  },
  {
   "cell_type": "code",
   "execution_count": null,
   "metadata": {
    "collapsed": true
   },
   "outputs": [],
   "source": []
  }
 ],
 "metadata": {
  "kernelspec": {
   "display_name": "Python 3",
   "language": "python",
   "name": "python3"
  },
  "language_info": {
   "codemirror_mode": {
    "name": "ipython",
    "version": 3
   },
   "file_extension": ".py",
   "mimetype": "text/x-python",
   "name": "python",
   "nbconvert_exporter": "python",
   "pygments_lexer": "ipython3",
   "version": "3.5.1"
  }
 },
 "nbformat": 4,
 "nbformat_minor": 0
}
